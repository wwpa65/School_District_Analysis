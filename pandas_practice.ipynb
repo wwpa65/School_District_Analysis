{
 "cells": [
  {
   "cell_type": "code",
   "execution_count": 1,
   "id": "dfd21920",
   "metadata": {},
   "outputs": [],
   "source": [
    "# List of high schools\n",
    "high_schools = [\"Hernandez High School\", \"Figueroa High School\",\n",
    "                \"Wilson High School\",\"Wright High School\"]"
   ]
  },
  {
   "cell_type": "code",
   "execution_count": 2,
   "id": "d0f02906",
   "metadata": {},
   "outputs": [
    {
     "name": "stdout",
     "output_type": "stream",
     "text": [
      "Hernandez High School\n",
      "Figueroa High School\n",
      "Wilson High School\n",
      "Wright High School\n"
     ]
    }
   ],
   "source": [
    "for school in high_schools:\n",
    "    print(school)"
   ]
  },
  {
   "cell_type": "code",
   "execution_count": 3,
   "id": "aca96070",
   "metadata": {},
   "outputs": [],
   "source": [
    "# A dictionary of high schools and the type of school.\n",
    "high_school_types = [{\"High School\": \"Griffin\", \"Type\":\"District\"},\n",
    "                    {\"High School\": \"Figueroa\", \"Type\": \"District\"},\n",
    "                    {\"High School\": \"Wilson\", \"Type\": \"Charter\"},\n",
    "                    {\"High School\": \"Wright\", \"Type\": \"Charter\"}]"
   ]
  },
  {
   "cell_type": "code",
   "execution_count": 22,
   "id": "afdeaf01",
   "metadata": {},
   "outputs": [
    {
     "name": "stdout",
     "output_type": "stream",
     "text": [
      "{'High School': 'Griffin', 'Type': 'District'}\n",
      "{'High School': 'Figueroa', 'Type': 'District'}\n",
      "{'High School': 'Wilson', 'Type': 'Charter'}\n",
      "{'High School': 'Wright', 'Type': 'Charter'}\n"
     ]
    }
   ],
   "source": [
    "for item in high_school_types:\n",
    "    print(item)"
   ]
  },
  {
   "cell_type": "code",
   "execution_count": 23,
   "id": "f096ef2e",
   "metadata": {},
   "outputs": [],
   "source": [
    "# List of high schools\n",
    "high_schools = [\"Huang High School\",  \"Figueroa High School\", \"Shelton High School\", \"Hernandez High School\",\"Griffin High School\",\"Wilson High School\", \"Cabrera High School\", \"Bailey High School\", \"Holden High School\", \"Pena High School\", \"Wright High School\",\"Rodriguez High School\", \"Johnson High School\", \"Ford High School\", \"Thomas High School\"]"
   ]
  },
  {
   "cell_type": "code",
   "execution_count": 24,
   "id": "328ea97d",
   "metadata": {},
   "outputs": [
    {
     "data": {
      "text/plain": [
       "['Huang High School',\n",
       " 'Figueroa High School',\n",
       " 'Shelton High School',\n",
       " 'Hernandez High School',\n",
       " 'Griffin High School',\n",
       " 'Wilson High School',\n",
       " 'Cabrera High School',\n",
       " 'Bailey High School',\n",
       " 'Holden High School',\n",
       " 'Pena High School',\n",
       " 'Wright High School',\n",
       " 'Rodriguez High School',\n",
       " 'Johnson High School',\n",
       " 'Ford High School',\n",
       " 'Thomas High School']"
      ]
     },
     "execution_count": 24,
     "metadata": {},
     "output_type": "execute_result"
    }
   ],
   "source": [
    "high_schools"
   ]
  },
  {
   "cell_type": "code",
   "execution_count": 25,
   "id": "dc76fd1e",
   "metadata": {},
   "outputs": [],
   "source": [
    "# Add the Pandas dependency.\n",
    "import pandas as pd"
   ]
  },
  {
   "cell_type": "code",
   "execution_count": 27,
   "id": "2412b0a6",
   "metadata": {},
   "outputs": [
    {
     "data": {
      "text/plain": [
       "0         Huang High School\n",
       "1      Figueroa High School\n",
       "2       Shelton High School\n",
       "3     Hernandez High School\n",
       "4       Griffin High School\n",
       "5        Wilson High School\n",
       "6       Cabrera High School\n",
       "7        Bailey High School\n",
       "8        Holden High School\n",
       "9          Pena High School\n",
       "10       Wright High School\n",
       "11    Rodriguez High School\n",
       "12      Johnson High School\n",
       "13         Ford High School\n",
       "14       Thomas High School\n",
       "dtype: object"
      ]
     },
     "execution_count": 27,
     "metadata": {},
     "output_type": "execute_result"
    }
   ],
   "source": [
    "# Create a Pandas Series from a list.\n",
    "school_series = pd.Series(high_schools)\n",
    "school_series"
   ]
  },
  {
   "cell_type": "code",
   "execution_count": 28,
   "id": "f0d7dadd",
   "metadata": {},
   "outputs": [
    {
     "name": "stdout",
     "output_type": "stream",
     "text": [
      "Huang High School\n",
      "Figueroa High School\n",
      "Shelton High School\n",
      "Hernandez High School\n",
      "Griffin High School\n",
      "Wilson High School\n",
      "Cabrera High School\n",
      "Bailey High School\n",
      "Holden High School\n",
      "Pena High School\n",
      "Wright High School\n",
      "Rodriguez High School\n",
      "Johnson High School\n",
      "Ford High School\n",
      "Thomas High School\n"
     ]
    }
   ],
   "source": [
    "for i in school_series:\n",
    "    print(i)"
   ]
  },
  {
   "cell_type": "code",
   "execution_count": 29,
   "id": "8ec769e1",
   "metadata": {},
   "outputs": [],
   "source": [
    "# A dictionary of high schools\n",
    "high_school_dicts = [{\"School ID\": 0, \"school_name\": \"Huang High    School\", \"type\": \"District\"},\n",
    "                   {\"School ID\": 1, \"school_name\": \"Figueroa High School\", \"type\": \"District\"},\n",
    "                    {\"School ID\": 2, \"school_name\":\"Shelton High School\", \"type\": \"Charter\"},\n",
    "                    {\"School ID\": 3, \"school_name\":\"Hernandez High School\", \"type\": \"District\"},\n",
    "                    {\"School ID\": 4, \"school_name\":\"Griffin High School\", \"type\": \"Charter\"}]"
   ]
  },
  {
   "cell_type": "code",
   "execution_count": 30,
   "id": "0469d945",
   "metadata": {},
   "outputs": [
    {
     "data": {
      "text/html": [
       "<div>\n",
       "<style scoped>\n",
       "    .dataframe tbody tr th:only-of-type {\n",
       "        vertical-align: middle;\n",
       "    }\n",
       "\n",
       "    .dataframe tbody tr th {\n",
       "        vertical-align: top;\n",
       "    }\n",
       "\n",
       "    .dataframe thead th {\n",
       "        text-align: right;\n",
       "    }\n",
       "</style>\n",
       "<table border=\"1\" class=\"dataframe\">\n",
       "  <thead>\n",
       "    <tr style=\"text-align: right;\">\n",
       "      <th></th>\n",
       "      <th>School ID</th>\n",
       "      <th>school_name</th>\n",
       "      <th>type</th>\n",
       "    </tr>\n",
       "  </thead>\n",
       "  <tbody>\n",
       "    <tr>\n",
       "      <th>0</th>\n",
       "      <td>0</td>\n",
       "      <td>Huang High    School</td>\n",
       "      <td>District</td>\n",
       "    </tr>\n",
       "    <tr>\n",
       "      <th>1</th>\n",
       "      <td>1</td>\n",
       "      <td>Figueroa High School</td>\n",
       "      <td>District</td>\n",
       "    </tr>\n",
       "    <tr>\n",
       "      <th>2</th>\n",
       "      <td>2</td>\n",
       "      <td>Shelton High School</td>\n",
       "      <td>Charter</td>\n",
       "    </tr>\n",
       "    <tr>\n",
       "      <th>3</th>\n",
       "      <td>3</td>\n",
       "      <td>Hernandez High School</td>\n",
       "      <td>District</td>\n",
       "    </tr>\n",
       "    <tr>\n",
       "      <th>4</th>\n",
       "      <td>4</td>\n",
       "      <td>Griffin High School</td>\n",
       "      <td>Charter</td>\n",
       "    </tr>\n",
       "  </tbody>\n",
       "</table>\n",
       "</div>"
      ],
      "text/plain": [
       "   School ID            school_name      type\n",
       "0          0   Huang High    School  District\n",
       "1          1   Figueroa High School  District\n",
       "2          2    Shelton High School   Charter\n",
       "3          3  Hernandez High School  District\n",
       "4          4    Griffin High School   Charter"
      ]
     },
     "execution_count": 30,
     "metadata": {},
     "output_type": "execute_result"
    }
   ],
   "source": [
    "school_df = pd.DataFrame(high_school_dicts)\n",
    "school_df"
   ]
  },
  {
   "cell_type": "code",
   "execution_count": 31,
   "id": "6de9212e",
   "metadata": {},
   "outputs": [],
   "source": [
    "# Three separate lists of information on high schools\n",
    "school_id = [0, 1, 2, 3, 4]\n",
    "\n",
    "school_name = [\"Huang High School\", \"Figueroa High School\",\n",
    "\"Shelton High School\", \"Hernandez High School\",\"Griffin High School\"]\n",
    "\n",
    "type_of_school = [\"District\", \"District\", \"Charter\", \"District\",\"Charter\"]\n"
   ]
  },
  {
   "cell_type": "code",
   "execution_count": 32,
   "id": "4cb0342c",
   "metadata": {},
   "outputs": [],
   "source": [
    "# Initialize a new DataFrame.\n",
    "schools_df = pd.DataFrame()"
   ]
  },
  {
   "cell_type": "code",
   "execution_count": 33,
   "id": "a61a4a24",
   "metadata": {},
   "outputs": [
    {
     "data": {
      "text/html": [
       "<div>\n",
       "<style scoped>\n",
       "    .dataframe tbody tr th:only-of-type {\n",
       "        vertical-align: middle;\n",
       "    }\n",
       "\n",
       "    .dataframe tbody tr th {\n",
       "        vertical-align: top;\n",
       "    }\n",
       "\n",
       "    .dataframe thead th {\n",
       "        text-align: right;\n",
       "    }\n",
       "</style>\n",
       "<table border=\"1\" class=\"dataframe\">\n",
       "  <thead>\n",
       "    <tr style=\"text-align: right;\">\n",
       "      <th></th>\n",
       "      <th>School ID</th>\n",
       "    </tr>\n",
       "  </thead>\n",
       "  <tbody>\n",
       "    <tr>\n",
       "      <th>0</th>\n",
       "      <td>0</td>\n",
       "    </tr>\n",
       "    <tr>\n",
       "      <th>1</th>\n",
       "      <td>1</td>\n",
       "    </tr>\n",
       "    <tr>\n",
       "      <th>2</th>\n",
       "      <td>2</td>\n",
       "    </tr>\n",
       "    <tr>\n",
       "      <th>3</th>\n",
       "      <td>3</td>\n",
       "    </tr>\n",
       "    <tr>\n",
       "      <th>4</th>\n",
       "      <td>4</td>\n",
       "    </tr>\n",
       "  </tbody>\n",
       "</table>\n",
       "</div>"
      ],
      "text/plain": [
       "   School ID\n",
       "0          0\n",
       "1          1\n",
       "2          2\n",
       "3          3\n",
       "4          4"
      ]
     },
     "execution_count": 33,
     "metadata": {},
     "output_type": "execute_result"
    }
   ],
   "source": [
    "# Add the list to a new DataFrame.\n",
    "schools_df[\"School ID\"] = school_id\n",
    "\n",
    "# Print the DataFrame.\n",
    "schools_df"
   ]
  },
  {
   "cell_type": "code",
   "execution_count": 37,
   "id": "3fdeaaef",
   "metadata": {},
   "outputs": [
    {
     "data": {
      "text/html": [
       "<div>\n",
       "<style scoped>\n",
       "    .dataframe tbody tr th:only-of-type {\n",
       "        vertical-align: middle;\n",
       "    }\n",
       "\n",
       "    .dataframe tbody tr th {\n",
       "        vertical-align: top;\n",
       "    }\n",
       "\n",
       "    .dataframe thead th {\n",
       "        text-align: right;\n",
       "    }\n",
       "</style>\n",
       "<table border=\"1\" class=\"dataframe\">\n",
       "  <thead>\n",
       "    <tr style=\"text-align: right;\">\n",
       "      <th></th>\n",
       "      <th>School ID</th>\n",
       "      <th>School Name</th>\n",
       "      <th>Type</th>\n",
       "    </tr>\n",
       "  </thead>\n",
       "  <tbody>\n",
       "    <tr>\n",
       "      <th>0</th>\n",
       "      <td>0</td>\n",
       "      <td>Huang High School</td>\n",
       "      <td>District</td>\n",
       "    </tr>\n",
       "    <tr>\n",
       "      <th>1</th>\n",
       "      <td>1</td>\n",
       "      <td>Figueroa High School</td>\n",
       "      <td>District</td>\n",
       "    </tr>\n",
       "    <tr>\n",
       "      <th>2</th>\n",
       "      <td>2</td>\n",
       "      <td>Shelton High School</td>\n",
       "      <td>Charter</td>\n",
       "    </tr>\n",
       "    <tr>\n",
       "      <th>3</th>\n",
       "      <td>3</td>\n",
       "      <td>Hernandez High School</td>\n",
       "      <td>District</td>\n",
       "    </tr>\n",
       "    <tr>\n",
       "      <th>4</th>\n",
       "      <td>4</td>\n",
       "      <td>Griffin High School</td>\n",
       "      <td>Charter</td>\n",
       "    </tr>\n",
       "  </tbody>\n",
       "</table>\n",
       "</div>"
      ],
      "text/plain": [
       "   School ID            School Name      Type\n",
       "0          0      Huang High School  District\n",
       "1          1   Figueroa High School  District\n",
       "2          2    Shelton High School   Charter\n",
       "3          3  Hernandez High School  District\n",
       "4          4    Griffin High School   Charter"
      ]
     },
     "execution_count": 37,
     "metadata": {},
     "output_type": "execute_result"
    }
   ],
   "source": [
    "# Add the list to a new DataFrame.\n",
    "schools_df[\"School Name\"] = school_name\n",
    "schools_df[\"Type\"] = type_of_school\n",
    "\n",
    "# Print the DataFrame.\n",
    "schools_df"
   ]
  },
  {
   "cell_type": "code",
   "execution_count": 38,
   "id": "0e2667ae",
   "metadata": {},
   "outputs": [],
   "source": [
    "df = pd.DataFrame(data=high_school_dicts)"
   ]
  },
  {
   "cell_type": "code",
   "execution_count": 39,
   "id": "31313cd4",
   "metadata": {},
   "outputs": [
    {
     "data": {
      "text/html": [
       "<div>\n",
       "<style scoped>\n",
       "    .dataframe tbody tr th:only-of-type {\n",
       "        vertical-align: middle;\n",
       "    }\n",
       "\n",
       "    .dataframe tbody tr th {\n",
       "        vertical-align: top;\n",
       "    }\n",
       "\n",
       "    .dataframe thead th {\n",
       "        text-align: right;\n",
       "    }\n",
       "</style>\n",
       "<table border=\"1\" class=\"dataframe\">\n",
       "  <thead>\n",
       "    <tr style=\"text-align: right;\">\n",
       "      <th></th>\n",
       "      <th>School ID</th>\n",
       "      <th>school_name</th>\n",
       "      <th>type</th>\n",
       "    </tr>\n",
       "  </thead>\n",
       "  <tbody>\n",
       "    <tr>\n",
       "      <th>0</th>\n",
       "      <td>0</td>\n",
       "      <td>Huang High    School</td>\n",
       "      <td>District</td>\n",
       "    </tr>\n",
       "    <tr>\n",
       "      <th>1</th>\n",
       "      <td>1</td>\n",
       "      <td>Figueroa High School</td>\n",
       "      <td>District</td>\n",
       "    </tr>\n",
       "    <tr>\n",
       "      <th>2</th>\n",
       "      <td>2</td>\n",
       "      <td>Shelton High School</td>\n",
       "      <td>Charter</td>\n",
       "    </tr>\n",
       "    <tr>\n",
       "      <th>3</th>\n",
       "      <td>3</td>\n",
       "      <td>Hernandez High School</td>\n",
       "      <td>District</td>\n",
       "    </tr>\n",
       "    <tr>\n",
       "      <th>4</th>\n",
       "      <td>4</td>\n",
       "      <td>Griffin High School</td>\n",
       "      <td>Charter</td>\n",
       "    </tr>\n",
       "  </tbody>\n",
       "</table>\n",
       "</div>"
      ],
      "text/plain": [
       "   School ID            school_name      type\n",
       "0          0   Huang High    School  District\n",
       "1          1   Figueroa High School  District\n",
       "2          2    Shelton High School   Charter\n",
       "3          3  Hernandez High School  District\n",
       "4          4    Griffin High School   Charter"
      ]
     },
     "execution_count": 39,
     "metadata": {},
     "output_type": "execute_result"
    }
   ],
   "source": [
    "df"
   ]
  },
  {
   "cell_type": "code",
   "execution_count": 40,
   "id": "387d2a6b",
   "metadata": {},
   "outputs": [
    {
     "data": {
      "text/plain": [
       "Index(['School ID', 'school_name', 'type'], dtype='object')"
      ]
     },
     "execution_count": 40,
     "metadata": {},
     "output_type": "execute_result"
    }
   ],
   "source": [
    "school_df.columns"
   ]
  },
  {
   "cell_type": "code",
   "execution_count": 41,
   "id": "0d5cce31",
   "metadata": {},
   "outputs": [
    {
     "data": {
      "text/plain": [
       "RangeIndex(start=0, stop=5, step=1)"
      ]
     },
     "execution_count": 41,
     "metadata": {},
     "output_type": "execute_result"
    }
   ],
   "source": [
    "school_df.index"
   ]
  },
  {
   "cell_type": "code",
   "execution_count": 42,
   "id": "5a478b3e",
   "metadata": {},
   "outputs": [
    {
     "data": {
      "text/plain": [
       "array([[0, 'Huang High    School', 'District'],\n",
       "       [1, 'Figueroa High School', 'District'],\n",
       "       [2, 'Shelton High School', 'Charter'],\n",
       "       [3, 'Hernandez High School', 'District'],\n",
       "       [4, 'Griffin High School', 'Charter']], dtype=object)"
      ]
     },
     "execution_count": 42,
     "metadata": {},
     "output_type": "execute_result"
    }
   ],
   "source": [
    "school_df.values"
   ]
  },
  {
   "cell_type": "code",
   "execution_count": 47,
   "id": "02e540bc",
   "metadata": {},
   "outputs": [],
   "source": [
    "high_schools = [{\"School ID\": 0, \"School Name\": \"Huang High School\", \"School Type\": \"Discrict\"}, \n",
    "    {\"School ID\": 1, \"School Name\": \"Figueroa High School\", \"School Type\": \"Discrict\"},\n",
    "    {\"School ID\": 2, \"School Name\":\"Shelton High School\", \"School Type\": \"Charter\"},\n",
    "    {\"School ID\": 3, \"School Name\":\"Hernandez High School\", \"School Type\": \"Discrict\"},\n",
    "    {\"School ID\": 4, \"School Name\":\"Griffin High School\", \"School Type\": \"Charter\"},\n",
    "    {\"School ID\": 5, \"School Name\":\"Wilson High School\", \"School Type\": \"Charter\"},\n",
    "    {\"School ID\": 6, \"School Name\": \"Cabrera High School\", \"School Type\": \"Charter\"},\n",
    "    {\"School ID\": 7, \"School Name\":\"Bailey High School\", \"School Type\": \"Discrict\"},\n",
    "    {\"School ID\": 8, \"School Name\":\"Holden High School\", \"School Type\": \"Charter\"},\n",
    "    {\"School ID\": 9, \"School Name\":\"Pena High School\", \"School Type\": \"Charter\"},\n",
    "    {\"School ID\": 10, \"School Name\":\"Wright High School\", \"School Type\": \"Charter\"},\n",
    "    {\"School ID\": 11, \"School Name\":\"Rodriguez High School\", \"School Type\": \"Discrict\"},\n",
    "    {\"School ID\": 12, \"School Name\":\"Johnson High School\", \"School Type\": \"Discrict\"},\n",
    "    {\"School ID\": 13, \"School Name\":\"Ford High School\", \"School Type\": \"Discrict\"}, \n",
    "    {\"School ID\": 14, \"School Name\":\"Thomas High School\",  \"School Type\": \"Charter\"}]"
   ]
  },
  {
   "cell_type": "code",
   "execution_count": 48,
   "id": "f3b94b76",
   "metadata": {},
   "outputs": [
    {
     "data": {
      "text/plain": [
       "[{'School ID': 0,\n",
       "  'School Name': 'Huang High School',\n",
       "  'School Type': 'Discrict'},\n",
       " {'School ID': 1,\n",
       "  'School Name': 'Figueroa High School',\n",
       "  'School Type': 'Discrict'},\n",
       " {'School ID': 2,\n",
       "  'School Name': 'Shelton High School',\n",
       "  'School Type': 'Charter'},\n",
       " {'School ID': 3,\n",
       "  'School Name': 'Hernandez High School',\n",
       "  'School Type': 'Discrict'},\n",
       " {'School ID': 4,\n",
       "  'School Name': 'Griffin High School',\n",
       "  'School Type': 'Charter'},\n",
       " {'School ID': 5,\n",
       "  'School Name': 'Wilson High School',\n",
       "  'School Type': 'Charter'},\n",
       " {'School ID': 6,\n",
       "  'School Name': 'Cabrera High School',\n",
       "  'School Type': 'Charter'},\n",
       " {'School ID': 7,\n",
       "  'School Name': 'Bailey High School',\n",
       "  'School Type': 'Discrict'},\n",
       " {'School ID': 8,\n",
       "  'School Name': 'Holden High School',\n",
       "  'School Type': 'Charter'},\n",
       " {'School ID': 9, 'School Name': 'Pena High School', 'School Type': 'Charter'},\n",
       " {'School ID': 10,\n",
       "  'School Name': 'Wright High School',\n",
       "  'School Type': 'Charter'},\n",
       " {'School ID': 11,\n",
       "  'School Name': 'Rodriguez High School',\n",
       "  'School Type': 'Discrict'},\n",
       " {'School ID': 12,\n",
       "  'School Name': 'Johnson High School',\n",
       "  'School Type': 'Discrict'},\n",
       " {'School ID': 13,\n",
       "  'School Name': 'Ford High School',\n",
       "  'School Type': 'Discrict'},\n",
       " {'School ID': 14,\n",
       "  'School Name': 'Thomas High School',\n",
       "  'School Type': 'Charter'}]"
      ]
     },
     "execution_count": 48,
     "metadata": {},
     "output_type": "execute_result"
    }
   ],
   "source": [
    "high_schools"
   ]
  },
  {
   "cell_type": "code",
   "execution_count": 49,
   "id": "a3991ed0",
   "metadata": {},
   "outputs": [],
   "source": [
    "df_high_schools = pd.DataFrame(data=high_schools)"
   ]
  },
  {
   "cell_type": "code",
   "execution_count": 50,
   "id": "7e0553f6",
   "metadata": {},
   "outputs": [
    {
     "data": {
      "text/html": [
       "<div>\n",
       "<style scoped>\n",
       "    .dataframe tbody tr th:only-of-type {\n",
       "        vertical-align: middle;\n",
       "    }\n",
       "\n",
       "    .dataframe tbody tr th {\n",
       "        vertical-align: top;\n",
       "    }\n",
       "\n",
       "    .dataframe thead th {\n",
       "        text-align: right;\n",
       "    }\n",
       "</style>\n",
       "<table border=\"1\" class=\"dataframe\">\n",
       "  <thead>\n",
       "    <tr style=\"text-align: right;\">\n",
       "      <th></th>\n",
       "      <th>School ID</th>\n",
       "      <th>School Name</th>\n",
       "      <th>School Type</th>\n",
       "    </tr>\n",
       "  </thead>\n",
       "  <tbody>\n",
       "    <tr>\n",
       "      <th>0</th>\n",
       "      <td>0</td>\n",
       "      <td>Huang High School</td>\n",
       "      <td>Discrict</td>\n",
       "    </tr>\n",
       "    <tr>\n",
       "      <th>1</th>\n",
       "      <td>1</td>\n",
       "      <td>Figueroa High School</td>\n",
       "      <td>Discrict</td>\n",
       "    </tr>\n",
       "    <tr>\n",
       "      <th>2</th>\n",
       "      <td>2</td>\n",
       "      <td>Shelton High School</td>\n",
       "      <td>Charter</td>\n",
       "    </tr>\n",
       "    <tr>\n",
       "      <th>3</th>\n",
       "      <td>3</td>\n",
       "      <td>Hernandez High School</td>\n",
       "      <td>Discrict</td>\n",
       "    </tr>\n",
       "    <tr>\n",
       "      <th>4</th>\n",
       "      <td>4</td>\n",
       "      <td>Griffin High School</td>\n",
       "      <td>Charter</td>\n",
       "    </tr>\n",
       "    <tr>\n",
       "      <th>5</th>\n",
       "      <td>5</td>\n",
       "      <td>Wilson High School</td>\n",
       "      <td>Charter</td>\n",
       "    </tr>\n",
       "    <tr>\n",
       "      <th>6</th>\n",
       "      <td>6</td>\n",
       "      <td>Cabrera High School</td>\n",
       "      <td>Charter</td>\n",
       "    </tr>\n",
       "    <tr>\n",
       "      <th>7</th>\n",
       "      <td>7</td>\n",
       "      <td>Bailey High School</td>\n",
       "      <td>Discrict</td>\n",
       "    </tr>\n",
       "    <tr>\n",
       "      <th>8</th>\n",
       "      <td>8</td>\n",
       "      <td>Holden High School</td>\n",
       "      <td>Charter</td>\n",
       "    </tr>\n",
       "    <tr>\n",
       "      <th>9</th>\n",
       "      <td>9</td>\n",
       "      <td>Pena High School</td>\n",
       "      <td>Charter</td>\n",
       "    </tr>\n",
       "    <tr>\n",
       "      <th>10</th>\n",
       "      <td>10</td>\n",
       "      <td>Wright High School</td>\n",
       "      <td>Charter</td>\n",
       "    </tr>\n",
       "    <tr>\n",
       "      <th>11</th>\n",
       "      <td>11</td>\n",
       "      <td>Rodriguez High School</td>\n",
       "      <td>Discrict</td>\n",
       "    </tr>\n",
       "    <tr>\n",
       "      <th>12</th>\n",
       "      <td>12</td>\n",
       "      <td>Johnson High School</td>\n",
       "      <td>Discrict</td>\n",
       "    </tr>\n",
       "    <tr>\n",
       "      <th>13</th>\n",
       "      <td>13</td>\n",
       "      <td>Ford High School</td>\n",
       "      <td>Discrict</td>\n",
       "    </tr>\n",
       "    <tr>\n",
       "      <th>14</th>\n",
       "      <td>14</td>\n",
       "      <td>Thomas High School</td>\n",
       "      <td>Charter</td>\n",
       "    </tr>\n",
       "  </tbody>\n",
       "</table>\n",
       "</div>"
      ],
      "text/plain": [
       "    School ID            School Name School Type\n",
       "0           0      Huang High School    Discrict\n",
       "1           1   Figueroa High School    Discrict\n",
       "2           2    Shelton High School     Charter\n",
       "3           3  Hernandez High School    Discrict\n",
       "4           4    Griffin High School     Charter\n",
       "5           5     Wilson High School     Charter\n",
       "6           6    Cabrera High School     Charter\n",
       "7           7     Bailey High School    Discrict\n",
       "8           8     Holden High School     Charter\n",
       "9           9       Pena High School     Charter\n",
       "10         10     Wright High School     Charter\n",
       "11         11  Rodriguez High School    Discrict\n",
       "12         12    Johnson High School    Discrict\n",
       "13         13       Ford High School    Discrict\n",
       "14         14     Thomas High School     Charter"
      ]
     },
     "execution_count": 50,
     "metadata": {},
     "output_type": "execute_result"
    }
   ],
   "source": [
    "df_high_schools"
   ]
  },
  {
   "cell_type": "code",
   "execution_count": null,
   "id": "07c49561",
   "metadata": {},
   "outputs": [],
   "source": []
  }
 ],
 "metadata": {
  "kernelspec": {
   "display_name": "PythonData",
   "language": "python",
   "name": "pythondata"
  },
  "language_info": {
   "codemirror_mode": {
    "name": "ipython",
    "version": 3
   },
   "file_extension": ".py",
   "mimetype": "text/x-python",
   "name": "python",
   "nbconvert_exporter": "python",
   "pygments_lexer": "ipython3",
   "version": "3.9.7"
  }
 },
 "nbformat": 4,
 "nbformat_minor": 5
}
